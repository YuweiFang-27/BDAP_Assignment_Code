{
 "cells": [
  {
   "cell_type": "code",
   "execution_count": 1,
   "id": "b665dbb4",
   "metadata": {},
   "outputs": [],
   "source": [
    "import pandas as pd\n",
    "\n",
    "# read files\n",
    "accident_df = pd.read_csv(\"accident.csv\")\n",
    "road_surface_df = pd.read_csv(\"road_surface_cond.csv\")\n",
    "atmospheric_df = pd.read_csv(\"atmospheric_cond.csv\")\n",
    "\n",
    "# merge \n",
    "merged_df = (\n",
    "    accident_df\n",
    "    .merge(road_surface_df, on=\"ACCIDENT_NO\", how=\"left\")\n",
    "    .merge(atmospheric_df, on=\"ACCIDENT_NO\", how=\"left\")\n",
    ")\n",
    "\n",
    "# save it\n",
    "merged_df.to_csv(\"accident_merged.csv\", index=False)"
   ]
  },
  {
   "cell_type": "code",
   "execution_count": 4,
   "id": "b66abcf8",
   "metadata": {},
   "outputs": [],
   "source": [
    "import pandas as pd\n",
    "\n",
    "# read data\n",
    "df = pd.read_csv(\"accident_merged.csv\")\n",
    "\n",
    "# keep the specified columns\n",
    "columns_to_keep = [\n",
    "    \"ACCIDENT_NO\", \"ACCIDENT_DATE\", \"ACCIDENT_TIME\", \"ACCIDENT_TYPE\", \"ACCIDENT_TYPE_DESC\",\n",
    "    \"DAY_WEEK_DESC\", \"LIGHT_CONDITION\", \"ROAD_GEOMETRY\", \"ROAD_GEOMETRY_DESC\",\n",
    "    \"SEVERITY\", \"SPEED_ZONE\", \"RMA\", \"SURFACE_COND\", \"SURFACE_COND_DESC\",\n",
    "    \"ATMOSPH_COND\", \"ATMOSPH_COND_DESC\"\n",
    "]\n",
    "df = df[columns_to_keep]\n",
    "\n",
    "# delete some data\n",
    "df = df[\n",
    "    (df[\"ACCIDENT_TYPE\"] != 9) &\n",
    "    (df[\"LIGHT_CONDITION\"] != 9) &\n",
    "    (~df[\"ROAD_GEOMETRY\"].isin([6, 7, 8, 9])) &\n",
    "    (df[\"SEVERITY\"] != 4) &\n",
    "    (~df[\"SPEED_ZONE\"].isin([777, 888, 999])) &\n",
    "    (df[\"RMA\"].notna()) & (df[\"RMA\"] != \"Non Arterial\") &\n",
    "    (df[\"SURFACE_COND\"] != 9) &\n",
    "    (df[\"ATMOSPH_COND\"] != 9)\n",
    "]\n",
    "\n",
    "# merge into datatime\n",
    "df[\"DATETIME\"] = pd.to_datetime(df[\"ACCIDENT_DATE\"] + \" \" + df[\"ACCIDENT_TIME\"])\n",
    "df.drop([\"ACCIDENT_DATE\", \"ACCIDENT_TIME\"], axis=1, inplace=True)\n",
    "\n",
    "# save\n",
    "df.to_csv(\"accident_cleaned.csv\", index=False)\n"
   ]
  }
 ],
 "metadata": {
  "kernelspec": {
   "display_name": "Python 3",
   "language": "python",
   "name": "python3"
  },
  "language_info": {
   "codemirror_mode": {
    "name": "ipython",
    "version": 3
   },
   "file_extension": ".py",
   "mimetype": "text/x-python",
   "name": "python",
   "nbconvert_exporter": "python",
   "pygments_lexer": "ipython3",
   "version": "3.12.6"
  }
 },
 "nbformat": 4,
 "nbformat_minor": 5
}
